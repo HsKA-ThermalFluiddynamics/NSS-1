{
 "cells": [
  {
   "cell_type": "markdown",
   "metadata": {},
   "source": [
    "# Numerik: Eine Einf&uuml;hrung mit Python"
   ]
  },
  {
   "cell_type": "markdown",
   "metadata": {},
   "source": [
    "Dieser Vorlesungsteil beinhaltet die Wiederholung der wichtigsten mathematischen Methoden zur Lösung von linearen und nichtlinearen Gleichungssystemen sowie von Differentialgleichungen. Die Umsetzung der verschiedenen Methoden in Programmcode wird mit der Programmiersprache Python gezeigt.\n",
    "\n",
    "1. Python Installation und erste Schritte\n",
    "2. iterative Verfahren: Fixpunktiteration, Newton-Verfahren\n",
    "3. Anfangswertaufgaben für gewöhnliche Differentialgleichungen (Euler-, Runge-Kutta-Verfahren)\n",
    "4. Randwertaufgaben für gewöhnliche Differentialgleichungen (Shooting Methode, numerische Differentiation und Integration, finite Differenzen, Gauß-Verfahren, Thomas-Algorithmus)\n"
   ]
  },
  {
   "cell_type": "markdown",
   "metadata": {},
   "source": [
    "## Python Installation und erste Schritte"
   ]
  },
  {
   "cell_type": "markdown",
   "metadata": {},
   "source": [
    "[Python](https://www.python.org) ist eine moderne, quelloffene, objektorientierte Programmiersprache mit einer sehr klaren und einfachen Syntax. Sie ist in der Wissenschaft weit verbreitet und wird an (fast) allen führenden Universitäten zur Einführung in die Programmierung verwendet.\n",
    "\n",
    "Für wissenschaftliche Anwendungen stehen u.a. die Pakete [NumPy](http://www.numpy.org), [SciPy](https://www.scipy.org) und [MatplotLib](http://matplotlib.org) zur Verfügung, mit denen Funktionen für wissenschaftliches Rechnen und Visualisierung bereitgestellt werden. Umfang und Syntax entsprechen in etwa [Matlab](https://de.mathworks.com) (lineare Algebra, numerische Optimierung, numerische Differentiation und Integration, Interpolation, Signalverarbeitung, Lösen gewöhnlicher Differentialgleichungen und symbolische Mathematik).\n"
   ]
  },
  {
   "cell_type": "markdown",
   "metadata": {},
   "source": [
    "Python ist für alle gängigen Betriebssysteme (Linux, MacOS, Windows) verfügbar und kann auf unterschiedliche Weise installiert werden. Um alle für wissenschaftlichen Anwendungen relevanten Module zu installieren, bietet sich die [Anaconda-Distribution](https://www.continuum.io/Anaconda-Overview) an.\n",
    "\n",
    "Zur Installation\n",
    "\n",
    "- hier https://www.continuum.io/downloads die komplette Distribution (nicht Miniconda) für das entsprechende Betriebssystem herunterladen (Python Version 3.6) und die Installationsdatei ausführen.\n",
    "\n",
    "- die Kommandozeile aufrufen (in Windows im Startmenü `cmd` in die Suchmaske eingeben, unter MacOS in der Spotlight-Suche `terminal` eingeben, Linux-Nutzer wissen eh, wie das geht).\n",
    "\n",
    "- `jupyter notebook` eingeben. Es öffnet sich ein Webbrowser mit der Jupyter-Umgebung, in der Python interaktiv verwendet werden kann.\n",
    "\n",
    "- das Ganze sollte dann in etwa so aussehen:\n",
    "\n",
    "![](jupyter.png)\n",
    "\n",
    "- über das Menü `New --> Python [default]` ein neues Arbeitsblatt erstellen.\n",
    "\n",
    "- in die erste Zelle Folgendes eingeben und über den `run cell`-Button ausführen."
   ]
  },
  {
   "cell_type": "code",
   "execution_count": 5,
   "metadata": {
    "collapsed": false
   },
   "outputs": [
    {
     "name": "stdout",
     "output_type": "stream",
     "text": [
      "Hallo Welt\n"
     ]
    },
    {
     "data": {
      "text/plain": [
       "9"
      ]
     },
     "execution_count": 5,
     "metadata": {},
     "output_type": "execute_result"
    }
   ],
   "source": [
    "print (\"Hallo Welt\")\n",
    "4+5"
   ]
  },
  {
   "cell_type": "markdown",
   "metadata": {},
   "source": [
    "Weitere Tutorials zu [Python](https://docs.python.org/3/tutorial/) und [Numpy](https://docs.scipy.org/doc/numpy-dev/user/quickstart.html) bitte selbst durcharbeiten.\n",
    "\n",
    "Danach geht es [hier](1_2-Numerik - Iterative Verfahren.ipynb) weiter."
   ]
  },
  {
   "cell_type": "markdown",
   "metadata": {},
   "source": [
    "\n",
    "---\n",
    "###### Copyright (c) 2017, Matthias Stripf\n",
    "\n",
    "Der folgende Python-Code darf ignoriert werden. Er dient nur dazu, die richtige Formatvorlage für die Jupyter-Notebooks zu laden."
   ]
  },
  {
   "cell_type": "code",
   "execution_count": 6,
   "metadata": {
    "collapsed": false
   },
   "outputs": [
    {
     "data": {
      "text/html": [
       "<link href='http://fonts.googleapis.com/css?family=Fenix' rel='stylesheet' type='text/css'>\n",
       "<link href='http://fonts.googleapis.com/css?family=Alegreya+Sans:100,300,400,500,700,800,900,100italic,300italic,400italic,500italic,700italic,800italic,900italic' rel='stylesheet' type='text/css'>\n",
       "<link href='http://fonts.googleapis.com/css?family=Source+Code+Pro:300,400' rel='stylesheet' type='text/css'>\n",
       "<style>\n",
       "\n",
       "@font-face {\n",
       "    font-family: \"Computer Modern\";\n",
       "    src: url('http://mirrors.ctan.org/fonts/cm-unicode/fonts/otf/cmunss.otf');\n",
       "}\n",
       "\n",
       "\n",
       "#notebook_panel { /* main background */\n",
       "    background: rgb(245,245,245);\n",
       "}\n",
       "\n",
       "div.cell { /* set cell width */\n",
       "    width: 750px;\n",
       "}\n",
       "\n",
       "div #notebook { /* centre the content */\n",
       "    background: #fff; /* white background for content */\n",
       "    width: 1000px;\n",
       "    margin: auto;\n",
       "    padding-left: 0em;\n",
       "}\n",
       "\n",
       "#notebook li { /* More space between bullet points */\n",
       "margin-top:0.8em;\n",
       "}\n",
       "\n",
       "/* draw border around running cells */\n",
       "div.cell.border-box-sizing.code_cell.running { \n",
       "    border: 1px solid #111;\n",
       "}\n",
       "\n",
       "/* Put a solid color box around each cell and its output, visually linking them*/\n",
       "div.cell.code_cell {\n",
       "    background-color: rgb(256,256,256); \n",
       "    border-radius: 0px; \n",
       "    padding: 0.5em;\n",
       "    margin-left:1em;\n",
       "    margin-top: 1em;\n",
       "}\n",
       "\n",
       "\n",
       "div.text_cell_render{\n",
       "    font-family: 'Alegreya Sans' sans-serif;\n",
       "    line-height: 140%;\n",
       "    font-size: 125%;\n",
       "    font-weight: 400;\n",
       "    width:650px;\n",
       "    margin-left:auto;\n",
       "    margin-right:auto;\n",
       "}\n",
       "\n",
       "/* Formatting for header cells */\n",
       ".text_cell_render h1 {\n",
       "    font-family: 'Alegreya Sans', sans-serif;\n",
       "    font-style:regular;\n",
       "    font-weight: 300;\n",
       "    font-size: 30pt;\n",
       "    line-height: 100%;\n",
       "    color:#CD2305;\n",
       "    margin-bottom: 0.5em;\n",
       "    margin-top: 0.5em;\n",
       "    display: block;\n",
       "}\n",
       ".text_cell_render h2 {\n",
       "    font-family: 'Alegreya Sans', sans-serif;\n",
       "    font-style:regular;\n",
       "    font-weight: 300;\n",
       "    font-size: 30pt;\n",
       "    line-height: 100%;\n",
       "    color:#CD2305;\n",
       "    margin-bottom: 0.5em;\n",
       "    margin-top: 0.5em;\n",
       "    display: block;\n",
       "}\t\n",
       ".text_cell_render h3 {\n",
       "    font-family: 'Alegreya Sans', sans-serif;\n",
       "    font-weight: 300;\n",
       "    font-size: 24pt;\n",
       "    line-height: 100%;\n",
       "    color:#CD2305;\n",
       "    margin-bottom: 0.1em;\n",
       "    margin-top: 0.3em;\n",
       "    display: block;\n",
       "}\t\n",
       "\n",
       ".text_cell_render h4 {\n",
       "    font-family: 'Alegreya Sans', sans-serif;\n",
       "    font-weight: 300;\n",
       "    margin-top:12px;\n",
       "\tfont-size: 20pt;\n",
       "    color:#CD2305;\n",
       "    margin-bottom: 3px;\n",
       "    font-style: regular;\n",
       "}\n",
       "\n",
       ".text_cell_render h5 {\n",
       "    font-family: 'Alegreya Sans', sans-serif;\n",
       "    font-weight: 300;\n",
       "    font-size: 16pt;\n",
       "    margin-top: 12px;\n",
       "    color:#CD2305;\n",
       "    margin-bottom: 3px;\n",
       "    font-style: regular;\n",
       "}\n",
       "\n",
       ".text_cell_render h6 {  /*Use this for small titles*/\n",
       "    font-family: 'Alegreya Sans', sans-serif;\n",
       "    font-weight: 300;\n",
       "    font-size: 16pt;\n",
       "    color: #CD2305;\n",
       "    font-style: italic;\n",
       "    margin-bottom: .5em;\n",
       "    margin-top: 0.5em;\n",
       "    display: block;\n",
       "}\n",
       "\n",
       ".text_cell_render h7 { /*use this for copyright note*/\n",
       "    font-family: 'Source Code Pro', sans-serif;\n",
       "    font-weight: 300;\n",
       "    font-size: 9pt;\n",
       "    line-height: 100%;\n",
       "    color: grey;\n",
       "    margin-bottom: 1px;\n",
       "    margin-top: 1px;\n",
       "}\n",
       "\n",
       "    .CodeMirror{\n",
       "            font-family: \"Source Code Pro\";\n",
       "\t\t\tfont-size: 90%;\n",
       "    }\n",
       "/*    .prompt{\n",
       "        display: None;\n",
       "    }*/\n",
       "\t\n",
       "    \n",
       "    .warning{\n",
       "        color: rgb( 240, 20, 20 )\n",
       "        }  \n",
       "</style>\n",
       "<script>\n",
       "    MathJax.Hub.Config({\n",
       "                        TeX: {\n",
       "                           extensions: [\"AMSmath.js\"], \n",
       "                           equationNumbers: { autoNumber: \"AMS\", useLabelIds: true}\n",
       "                           },\n",
       "                tex2jax: {\n",
       "                    inlineMath: [ ['$','$'], [\"\\\\(\",\"\\\\)\"] ],\n",
       "                    displayMath: [ ['$$','$$'], [\"\\\\[\",\"\\\\]\"] ]\n",
       "                },\n",
       "                displayAlign: 'center', // Change this to 'center' to center equations.\n",
       "                \"HTML-CSS\": {\n",
       "                    styles: {'.MathJax_Display': {\"margin\": 4}}\n",
       "                }\n",
       "        });\n",
       "</script>\n"
      ],
      "text/plain": [
       "<IPython.core.display.HTML object>"
      ]
     },
     "execution_count": 6,
     "metadata": {},
     "output_type": "execute_result"
    }
   ],
   "source": [
    "from IPython.core.display import HTML\n",
    "def css_styling():\n",
    "    styles = open('TFDStyle.css', 'r').read()\n",
    "    return HTML(styles)\n",
    "css_styling()"
   ]
  }
 ],
 "metadata": {
  "kernelspec": {
   "display_name": "Python [conda root]",
   "language": "python",
   "name": "conda-root-py"
  },
  "language_info": {
   "codemirror_mode": {
    "name": "ipython",
    "version": 3
   },
   "file_extension": ".py",
   "mimetype": "text/x-python",
   "name": "python",
   "nbconvert_exporter": "python",
   "pygments_lexer": "ipython3",
   "version": "3.5.2"
  }
 },
 "nbformat": 4,
 "nbformat_minor": 2
}
