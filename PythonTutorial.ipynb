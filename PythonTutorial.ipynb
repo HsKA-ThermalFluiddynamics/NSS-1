{
 "cells": [
  {
   "cell_type": "markdown",
   "metadata": {},
   "source": [
    "# Python Tutorial"
   ]
  },
  {
   "cell_type": "code",
   "execution_count": null,
   "metadata": {},
   "outputs": [],
   "source": [
    "from __future__ import print_function"
   ]
  },
  {
   "cell_type": "markdown",
   "metadata": {},
   "source": [
    "## Hello World!"
   ]
  },
  {
   "cell_type": "code",
   "execution_count": null,
   "metadata": {},
   "outputs": [],
   "source": [
    "# Output \"Hello World!\"\n",
    "print(\"Hello, World!\")\n",
    "print(\"Hello World!\", 10.0)"
   ]
  },
  {
   "cell_type": "markdown",
   "metadata": {},
   "source": [
    "- ``#`` starts a comment line.\n",
    "- ``f(x,y)`` is a *function call*. ``f`` is the function *name*, ``x`` and ``y`` are the *arguments*. "
   ]
  },
  {
   "cell_type": "markdown",
   "metadata": {},
   "source": [
    "## Values, Types, Variables"
   ]
  },
  {
   "cell_type": "code",
   "execution_count": 3,
   "metadata": {},
   "outputs": [],
   "source": [
    "# define a variable\n",
    "s = \"Hello World!\"\n",
    "x = 10.0\n",
    "i = 42\n",
    "\n",
    "# define 2 variables at once\n",
    "a,b = 1,1"
   ]
  },
  {
   "cell_type": "code",
   "execution_count": 4,
   "metadata": {},
   "outputs": [
    {
     "name": "stdout",
     "output_type": "stream",
     "text": [
      "<class 'float'> <class 'int'> <class 'str'>\n",
      "<class 'str'> <class 'float'>\n"
     ]
    }
   ],
   "source": [
    "# output the types\n",
    "print(type(10.0), type(42), type(\"Hello World!\"))\n",
    "print(type(s), type(x))"
   ]
  },
  {
   "cell_type": "code",
   "execution_count": 5,
   "metadata": {},
   "outputs": [
    {
     "name": "stdout",
     "output_type": "stream",
     "text": [
      "<class 'int'>\n"
     ]
    }
   ],
   "source": [
    "# now change the type of s!\n",
    "s = 3\n",
    "print(type(s))"
   ]
  },
  {
   "cell_type": "markdown",
   "metadata": {},
   "source": [
    "- RHS of ``=`` (``10.0``, ``\"Hello World\"``) are *values*.\n",
    "- LHS of ``=`` (``s``, ``x``, ...) are *variables*.\n",
    "- Values have a *type*.\n",
    "- We can assign more than one variable in a single assignment.\n",
    "- ``type(x)`` can be used to determine the type of ``x``.\n",
    "- variables can change their type."
   ]
  },
  {
   "cell_type": "markdown",
   "metadata": {},
   "source": [
    "## Strings"
   ]
  },
  {
   "cell_type": "code",
   "execution_count": 1,
   "metadata": {},
   "outputs": [
    {
     "name": "stdout",
     "output_type": "stream",
     "text": [
      "4\n",
      "Olaf\n",
      "OLAF\n",
      "a\n"
     ]
    }
   ],
   "source": [
    "name = \"olaf\"\n",
    "print(len(name))\n",
    "print(name.capitalize())\n",
    "print(name.upper())\n",
    "print(name[2])"
   ]
  },
  {
   "cell_type": "markdown",
   "metadata": {},
   "source": [
    "- Python has *strings*.\n",
    "- Various functions to modify strings.\n",
    "- These functions *return* the new value.\n",
    "- The strings itself are immutable!"
   ]
  },
  {
   "cell_type": "markdown",
   "metadata": {},
   "source": [
    "## Ints and Floats"
   ]
  },
  {
   "cell_type": "code",
   "execution_count": null,
   "metadata": {},
   "outputs": [],
   "source": [
    "x = 2.0\n",
    "i = 42\n",
    "print(type(x), type(i))"
   ]
  },
  {
   "cell_type": "code",
   "execution_count": null,
   "metadata": {},
   "outputs": [],
   "source": [
    "# math expressions\n",
    "y = (-2*x**3 + x**.5) / (x-1.0)\n",
    "n = (-2*i**3 + 23)\n",
    "print(y)\n",
    "print(n)"
   ]
  },
  {
   "cell_type": "code",
   "execution_count": null,
   "metadata": {},
   "outputs": [],
   "source": [
    "# mixed expressions\n",
    "y = (i*x + x**2)\n",
    "print(y)"
   ]
  },
  {
   "cell_type": "code",
   "execution_count": null,
   "metadata": {},
   "outputs": [],
   "source": [
    "# division!\n",
    "print(\"17 / 2 =\", 17/2)\n",
    "print(\"17. / 2 =\", 17./2)\n",
    "print(\"17 % 2 =\", 17%2)\n",
    "print(float(i)/2)\n",
    "print((i+0.)/2)"
   ]
  },
  {
   "cell_type": "code",
   "execution_count": null,
   "metadata": {},
   "outputs": [],
   "source": [
    "# unary operators\n",
    "i += 10\n",
    "i -= 7\n",
    "x /= 3.0\n",
    "print(i, x)"
   ]
  },
  {
   "cell_type": "code",
   "execution_count": null,
   "metadata": {},
   "outputs": [],
   "source": [
    "print(3 * 10)\n",
    "print(\"3\" * 10)"
   ]
  },
  {
   "cell_type": "markdown",
   "metadata": {},
   "source": [
    "- \"Standard\" math operators exist: ``+``, ``-``, ``*``, ``/``, ``**``\n",
    "- Be careful with ``/``: integer division when both numbers are integers! (only Python 2!)\n",
    "- Unary operators ``+=``, ``-=``, ...\n",
    "- Operators may behave differently depending on the type."
   ]
  },
  {
   "cell_type": "markdown",
   "metadata": {},
   "source": [
    "## Boolean Expressions"
   ]
  },
  {
   "cell_type": "code",
   "execution_count": null,
   "metadata": {},
   "outputs": [],
   "source": [
    "truth = True\n",
    "lie = False\n",
    "print(type(truth))\n",
    "print(truth)\n",
    "print(not lie and (truth or lie))"
   ]
  },
  {
   "cell_type": "code",
   "execution_count": null,
   "metadata": {},
   "outputs": [],
   "source": [
    "truth = (i == 42)\n",
    "truth = lie or (i == n) and (x != y) or (x < y)"
   ]
  },
  {
   "cell_type": "markdown",
   "metadata": {},
   "source": [
    "- Boolean values are ``True`` and ``False``.\n",
    "- ``and``, ``or`` and ``not`` are logical operators.\n",
    "- ``==``, ``!=``, ``<``, ``>``, ``<=``, ``>=`` are comparison operators."
   ]
  },
  {
   "cell_type": "markdown",
   "metadata": {},
   "source": [
    "## Formatted Output"
   ]
  },
  {
   "cell_type": "code",
   "execution_count": null,
   "metadata": {},
   "outputs": [],
   "source": [
    "print(\"x={}, y={}\".format(x, y))"
   ]
  },
  {
   "cell_type": "code",
   "execution_count": null,
   "metadata": {},
   "outputs": [],
   "source": [
    "print(\"y={1}, x={0}\".format(x, y))"
   ]
  },
  {
   "cell_type": "code",
   "execution_count": null,
   "metadata": {},
   "outputs": [],
   "source": [
    "x = 3.14159\n",
    "print(\"x={:.4}, x={:5.3}\".format(x, y))"
   ]
  },
  {
   "cell_type": "markdown",
   "metadata": {},
   "source": [
    "- ``str.format()`` to format output (was \"``%``\")\n",
    "- ``{}`` is replaced by function arguments in order\n",
    "- ``{1}`` explicitely denotes the second argument\n",
    "- ``{:5.3}`` can be used to format the output in more detail (here: precision)"
   ]
  },
  {
   "cell_type": "markdown",
   "metadata": {},
   "source": [
    "## Lists"
   ]
  },
  {
   "cell_type": "code",
   "execution_count": 6,
   "metadata": {},
   "outputs": [
    {
     "name": "stdout",
     "output_type": "stream",
     "text": [
      "['Hallo', 'Welt!', 42, 23, [1.0, 2.0]]\n",
      "range(0, 20)\n",
      "range(7, 15)\n"
     ]
    }
   ],
   "source": [
    "# create an empty list\n",
    "l = []\n",
    "\n",
    "# append different elements\n",
    "l.append(\"Hallo\")\n",
    "l.append(\"Welt!\")\n",
    "l.append(42)\n",
    "l.append(23)\n",
    "l.append([1.0, 2.0])\n",
    "\n",
    "# create a number range\n",
    "ns = range(20)\n",
    "\n",
    "# output the list\n",
    "print(l)\n",
    "print(ns)\n",
    "print(range(7,15))"
   ]
  },
  {
   "cell_type": "code",
   "execution_count": null,
   "metadata": {},
   "outputs": [],
   "source": [
    "print(len(ns))"
   ]
  },
  {
   "cell_type": "code",
   "execution_count": null,
   "metadata": {},
   "outputs": [],
   "source": [
    "# access elements\n",
    "print(l[0])\n",
    "print(l[2])\n",
    "print(l[-1])"
   ]
  },
  {
   "cell_type": "code",
   "execution_count": null,
   "metadata": {},
   "outputs": [],
   "source": [
    "# take slices\n",
    "print(ns)\n",
    "print(ns[2:7])\n",
    "print(ns[17:])\n",
    "print(ns[:7])\n",
    "# with stride\n",
    "print(ns[7:16:2])"
   ]
  },
  {
   "cell_type": "code",
   "execution_count": null,
   "metadata": {},
   "outputs": [],
   "source": [
    "# unpack the list\n",
    "print(l)\n",
    "s1, s2, n1, n2, _ = l\n",
    "print(s1, s2)"
   ]
  },
  {
   "cell_type": "code",
   "execution_count": null,
   "metadata": {},
   "outputs": [],
   "source": [
    "print(17 in ns)\n",
    "print(\"Hallo\" in l)"
   ]
  },
  {
   "cell_type": "markdown",
   "metadata": {},
   "source": [
    "- Python provides *lists*.\n",
    "- ``[]`` is an emtpy list.\n",
    "- ``list.append(value)`` can be used to append anything to a list.\n",
    "- *Nested lists* are possible.\n",
    "- ``range(start, end)`` creates a list of numbers\n",
    "- ``len(list)`` returns the length of the list.\n",
    "- ``list[i]`` to access the *i*th element of the list (start counting with 0).\n",
    "- Negative indices denote elements from the end.\n",
    "- Slices can be used to take sublists.\n",
    "- A list can be unpacked in an assignment.\n",
    "- ``_`` can be used to ignore an element. \n",
    "- ``in`` to find an element in a list."
   ]
  },
  {
   "cell_type": "markdown",
   "metadata": {},
   "source": [
    "## Control Structures"
   ]
  },
  {
   "cell_type": "code",
   "execution_count": null,
   "metadata": {},
   "outputs": [],
   "source": [
    "fib = []\n",
    "a, b = 0, 1\n",
    "\n",
    "while b < 100:\n",
    "    a, b = b, (a+b)\n",
    "    fib.append(a)\n",
    "\n",
    "print(fib)"
   ]
  },
  {
   "cell_type": "code",
   "execution_count": null,
   "metadata": {},
   "outputs": [],
   "source": [
    "for n in fib:\n",
    "    if n % 3 == 0:\n",
    "        print(\"{} is modulo 3!\".format(n))\n",
    "    elif n % 2 == 0:\n",
    "        print(\"{} is even\".format(n))\n",
    "    else:\n",
    "        print(\"{} is odd\".format(n))"
   ]
  },
  {
   "cell_type": "markdown",
   "metadata": {},
   "source": [
    "- ``while``, ``if``, ``else``, ``for`` control structures\n",
    "- Indentation is significant! All lines with the same indent belong to one *block*\n",
    "- ``:`` at end of previous line starts a new block\n",
    "- ``while`` is a loop with an end condition\n",
    "- ``for`` is a loop over elements of a list (or other *generators*)"
   ]
  },
  {
   "cell_type": "markdown",
   "metadata": {},
   "source": [
    "## Function Definitions"
   ]
  },
  {
   "cell_type": "code",
   "execution_count": null,
   "metadata": {},
   "outputs": [],
   "source": [
    "# define a function\n",
    "def f(x, c):\n",
    "    return x**2-c, x**2+c\n",
    "\n",
    "print(f(3.0, 1.0))\n",
    "print(f(5.0, 2.0))"
   ]
  },
  {
   "cell_type": "code",
   "execution_count": null,
   "metadata": {},
   "outputs": [],
   "source": [
    "# with default argument\n",
    "def f(x, c=1.0):\n",
    "    return x**2-c, x**2+c\n",
    "\n",
    "print(f(3.0))\n",
    "print(f(5.0, 2.0))"
   ]
  },
  {
   "cell_type": "code",
   "execution_count": null,
   "metadata": {},
   "outputs": [],
   "source": [
    "# with docstring\n",
    "def f(x):\n",
    "    \"Computes the square of x.\"\n",
    "    return x**2"
   ]
  },
  {
   "cell_type": "code",
   "execution_count": null,
   "metadata": {},
   "outputs": [],
   "source": [
    "help(f)"
   ]
  },
  {
   "cell_type": "markdown",
   "metadata": {},
   "source": [
    "- ``def`` to define a function\n",
    "- ``return`` defines the return values of the function\n",
    "- ``*`` to unpack lists/take argument lists"
   ]
  },
  {
   "cell_type": "markdown",
   "metadata": {},
   "source": [
    "## Variable Scoping"
   ]
  },
  {
   "cell_type": "code",
   "execution_count": null,
   "metadata": {},
   "outputs": [],
   "source": [
    "def f(x):\n",
    "    print(\"i =\", i)\n",
    "    print(\"x =\", x, \"(in function, before add)\")\n",
    "    x += 2\n",
    "    print(\"x =\", x, \"(in function, after add)\")\n",
    "    return x\n",
    "\n",
    "x = 3\n",
    "i = 42\n",
    "print(\"x =\", x, \"(in script, before call)\")\n",
    "y = f(x)\n",
    "print(\"x =\", x, \"(in script, after function call)\")\n",
    "print(\"y =\", y)"
   ]
  },
  {
   "cell_type": "code",
   "execution_count": null,
   "metadata": {},
   "outputs": [],
   "source": [
    "x = 3\n",
    "\n",
    "def f():\n",
    "    global x\n",
    "    x += 2\n",
    "\n",
    "print(\"x =\", x, \"(before call)\")\n",
    "f()\n",
    "print(\"x =\", x, \"(after function call)\")"
   ]
  },
  {
   "cell_type": "markdown",
   "metadata": {},
   "source": [
    "- Local variables override global variables.\n",
    "- Global variables are not modified when changing local variables.\n",
    "- Still, in a function definition, global variables can be accessed (i.e., they are copied).\n",
    "- When the global variable should be modified inside a function, explicitely declare it with ``global``."
   ]
  },
  {
   "cell_type": "markdown",
   "metadata": {},
   "source": [
    "## Variables contain References"
   ]
  },
  {
   "cell_type": "code",
   "execution_count": null,
   "metadata": {},
   "outputs": [],
   "source": [
    "l = [\"Hello\", \"World\"]\n",
    "ll = [l, l]\n",
    "print(ll)\n",
    "\n",
    "l[1] = \"Olaf\"\n",
    "print(ll)\n",
    "\n",
    "ll[0][1] = \"Axel\"\n",
    "print(ll)"
   ]
  },
  {
   "cell_type": "markdown",
   "metadata": {},
   "source": [
    "- Variables are *references* to values.\n",
    "- When an value is modified, all variables that reference it get changed.\n",
    "- Basic types are *immutable*, i.e. they cannot be modiified.\n",
    "- When they are assigned to another variable, a new copy is created.\n",
    "- Functions modifying them return a new, modified version.\n",
    "- Not so with other types!"
   ]
  },
  {
   "cell_type": "markdown",
   "metadata": {},
   "source": [
    "## Classes and Objects"
   ]
  },
  {
   "cell_type": "markdown",
   "metadata": {},
   "source": [
    "- Classical Python programs contain variables that have a *value* of a certain *data type*, and *functions*.\n",
    "- Observation: functions are tied to a given data type. \n",
    "- For example, ``print`` should behave differently when used with a string, and integer, or a file. The same basically holds for all functions.\n",
    "- Idea: Tie functions to the data type also syntactically\n",
    "  - The world is made of *objects* (a.k.a. *value*)\n",
    "  - An object is an instance of a *class* (a.k.a. *data type*)\n",
    "  - A class provides *methods* (a.k.a. as *functions*) that can be used to do anything with these objects."
   ]
  },
  {
   "cell_type": "code",
   "execution_count": null,
   "metadata": {},
   "outputs": [],
   "source": [
    "# Create an object of class \"file\"\n",
    "f = file('test.txt', 'w')\n",
    "# Call the method \"write\" on the object\n",
    "f.write('Hello')\n",
    "# Close he file\n",
    "f.close()"
   ]
  },
  {
   "cell_type": "markdown",
   "metadata": {},
   "source": [
    "- ``file`` is a *class*.\n",
    "- When using a class like a function, this will create an *object* (a.k.a. an *instance* of a class): ``f = file('test.txt', 'w')``\n",
    "- Several instances/objects of a class can be created.\n",
    "- An object has *methods* (a.k.a. *class functions*) that can be used to do something with the object.\n",
    "- Methods are called like ``object.method()``: ``f.write('Hello')``"
   ]
  },
  {
   "cell_type": "markdown",
   "metadata": {},
   "source": [
    "### Everything is an object"
   ]
  },
  {
   "cell_type": "code",
   "execution_count": null,
   "metadata": {},
   "outputs": [],
   "source": [
    "s = \"Hello {}\"\n",
    "print(s.format(\"World!\"))\n",
    "print(\"Hello {}\".format(\"World\"))\n",
    "\n",
    "x = 42.0\n",
    "print(x.is_integer())\n",
    "print((42.0).is_integer())\n",
    "\n",
    "# same as l=[]\n",
    "l = list()\n",
    "l.append(42)\n",
    "l.append(23)"
   ]
  },
  {
   "cell_type": "markdown",
   "metadata": {},
   "source": [
    "- All types in Python are classes, all values are objects!"
   ]
  },
  {
   "cell_type": "markdown",
   "metadata": {},
   "source": [
    "## Defining a Class"
   ]
  },
  {
   "cell_type": "code",
   "execution_count": null,
   "metadata": {},
   "outputs": [],
   "source": [
    "class Circle:\n",
    "    \"This class represents a circle.\"\n",
    "    \n",
    "    def create(self, r):\n",
    "        \"Generate a circle.\"\n",
    "        self.radius = r          \n",
    "\n",
    "    def area(self):\n",
    "        \"Compute the area of the circle.\"\n",
    "        return 3.14159 * self.radius**2\n",
    "    \n",
    "help(Circle)"
   ]
  },
  {
   "cell_type": "code",
   "execution_count": null,
   "metadata": {},
   "outputs": [],
   "source": [
    "# create two circles\n",
    "c1 = Circle()\n",
    "c1.create(2.0)\n",
    "c2 = Circle()\n",
    "c2.create(3.0)\n",
    "\n",
    "print(c1.area())\n",
    "print(c2.area())\n",
    "print(c2.radius)"
   ]
  },
  {
   "cell_type": "markdown",
   "metadata": {},
   "source": [
    "- Create a class using the keyword ``class``.\n",
    "- Methods are nested functions.\n",
    "- A method gets the object itself as first argument (usually called ``self``).\n",
    "- Methods can access and modify *fields* (a.k.a. *instance variables*)."
   ]
  },
  {
   "cell_type": "markdown",
   "metadata": {},
   "source": [
    "### Special Methods"
   ]
  },
  {
   "cell_type": "code",
   "execution_count": null,
   "metadata": {},
   "outputs": [],
   "source": [
    "class Circle:\n",
    "    pi = 3.14159\n",
    "    \n",
    "    # __init__ is the constructor\n",
    "    def __init__(self, r):\n",
    "        self.radius = r\n",
    "\n",
    "    def area(self):\n",
    "        return Circle.pi * self.radius**2\n",
    "        \n",
    "    # define operator \"+\"\n",
    "    def __add__(self, other):\n",
    "        new = Circle(((self.area() + other.area())/3.14159)**0.5)\n",
    "        return new\n",
    "    \n",
    "    # define how to convert it to a string (e.g. to print it)\n",
    "    def __str__(self):\n",
    "        return \"I am a circle with radius {}.\".format(self.radius)\n",
    "    \n",
    "c1 = Circle(2.0)\n",
    "c2 = Circle(3.0)\n",
    "print(c1.area())\n",
    "print(c2.radius)\n",
    "\n",
    "# We have defined \"__add__\", so we can add two circles\n",
    "c3 = c1 + c2\n",
    "print(c3.radius)\n",
    "print(c3.area())\n",
    "\n",
    "# We have defined \"__str__\", so we can print a circle\n",
    "print(c1)"
   ]
  },
  {
   "cell_type": "markdown",
   "metadata": {},
   "source": [
    "- ``__init__`` is the *constructor*.\n",
    "- Other special functions can be used to allow operators etc."
   ]
  },
  {
   "cell_type": "code",
   "execution_count": null,
   "metadata": {},
   "outputs": [],
   "source": [
    "# same a + 23\n",
    "a = 19\n",
    "print(a.__add__(23))\n",
    "# same as \"Hello Olaf!\"[6:10]\n",
    "print(\"Hello Olaf!\".__getslice__(6, 10))"
   ]
  },
  {
   "cell_type": "markdown",
   "metadata": {},
   "source": [
    "- Ultimately, the *language intrinsics* of Python are\n",
    "  - assignments\n",
    "  - function definitions\n",
    "  - class definitions\n",
    "  - method or functions calls\n",
    "- The rest (e.g. all operators) are \"*syntactical sugar*\" and use special methods (e.g. ``__add__``)."
   ]
  },
  {
   "cell_type": "code",
   "execution_count": null,
   "metadata": {},
   "outputs": [],
   "source": [
    "class Polynomial:\n",
    "    \"Represents a polynomial p(x)=a*x**2 + b*x + c.\"\n",
    "    def __init__(self, a, b, c):\n",
    "        self.a = a\n",
    "        self.b = b\n",
    "        self.c = c\n",
    "\n",
    "    # allows the object to be used as a function\n",
    "    def __call__(self, x):\n",
    "        return self.a*x**2 + self.b*x + self.c\n",
    "    \n",
    "p = Polynomial(3.0, 2.0, 1.0)\n",
    "\n",
    "print(p(1.0))"
   ]
  },
  {
   "cell_type": "markdown",
   "metadata": {},
   "source": [
    "### Inheritance"
   ]
  },
  {
   "cell_type": "code",
   "execution_count": null,
   "metadata": {},
   "outputs": [],
   "source": [
    "class MyCircle(Circle):\n",
    "    def __init__(self, r = 1.0, color = \"red\"):\n",
    "        Circle.__init__(self, r)\n",
    "        self.color = color\n",
    "    def __str__(self):\n",
    "        return \"I am a {} circle with radius {} and area {}.\".format(self.color, self.radius, self.area())\n",
    "    \n",
    "c1 = MyCircle()\n",
    "c2 = MyCircle(2.0, \"green\")\n",
    "print(c1)\n",
    "print(c2)\n",
    "print(c1 + c2)"
   ]
  },
  {
   "cell_type": "markdown",
   "metadata": {},
   "source": [
    "- A class can *inherit* all methods from another class.\n",
    "- The inherited methods can be overridden.\n",
    "- Allows to extend functionality of a class."
   ]
  },
  {
   "cell_type": "markdown",
   "metadata": {},
   "source": [
    "## Modules"
   ]
  },
  {
   "cell_type": "code",
   "execution_count": null,
   "metadata": {},
   "outputs": [],
   "source": [
    "import math\n",
    "print(math.pi)\n",
    "print(math.sin(math.pi))\n",
    "\n",
    "import sys\n",
    "print(\"Hello World!\", file=sys.stderr)"
   ]
  },
  {
   "cell_type": "code",
   "execution_count": null,
   "metadata": {},
   "outputs": [],
   "source": [
    "from math import sin, pi\n",
    "print(sin(pi))"
   ]
  },
  {
   "cell_type": "code",
   "execution_count": null,
   "metadata": {},
   "outputs": [],
   "source": [
    "from math import *\n",
    "print(log(pi))"
   ]
  },
  {
   "cell_type": "markdown",
   "metadata": {},
   "source": [
    "- ``import`` makes functions, variables and classes from a *module* available.\n",
    "- Functions in a module need to be *qualified* to call them.\n",
    "- This is like calling a method. Wait, it *is* calling a method!\n",
    "- ``from``, ``import`` draws the members of the module into the global namespace."
   ]
  }
 ],
 "metadata": {
  "kernelspec": {
   "display_name": "Python [default]",
   "language": "python",
   "name": "python3"
  },
  "language_info": {
   "codemirror_mode": {
    "name": "ipython",
    "version": 3
   },
   "file_extension": ".py",
   "mimetype": "text/x-python",
   "name": "python",
   "nbconvert_exporter": "python",
   "pygments_lexer": "ipython3",
   "version": "3.5.2"
  }
 },
 "nbformat": 4,
 "nbformat_minor": 1
}
